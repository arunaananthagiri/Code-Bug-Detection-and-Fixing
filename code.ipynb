{
 "cells": [
  {
   "cell_type": "code",
   "execution_count": 1,
   "id": "080beca4-34b4-43dd-8a68-9b43f6e325e0",
   "metadata": {},
   "outputs": [
    {
     "name": "stdout",
     "output_type": "stream",
     "text": [
      "Requirement already satisfied: autopep8 in c:\\users\\jahag\\anaconda3\\lib\\site-packages (2.0.4)\n",
      "Requirement already satisfied: pylint in c:\\users\\jahag\\anaconda3\\lib\\site-packages (3.3.3)\n",
      "Requirement already satisfied: pyflakes in c:\\users\\jahag\\anaconda3\\lib\\site-packages (3.2.0)\n",
      "Collecting astor\n",
      "  Downloading astor-0.8.1-py2.py3-none-any.whl.metadata (4.2 kB)\n",
      "Requirement already satisfied: transformers in c:\\users\\jahag\\anaconda3\\lib\\site-packages (4.48.0)\n",
      "Requirement already satisfied: torch in c:\\users\\jahag\\anaconda3\\lib\\site-packages (2.3.1)\n",
      "Requirement already satisfied: pycodestyle>=2.10.0 in c:\\users\\jahag\\anaconda3\\lib\\site-packages (from autopep8) (2.12.1)\n",
      "Requirement already satisfied: tomli in c:\\users\\jahag\\anaconda3\\lib\\site-packages (from autopep8) (2.0.1)\n",
      "Requirement already satisfied: platformdirs>=2.2.0 in c:\\users\\jahag\\anaconda3\\lib\\site-packages (from pylint) (3.10.0)\n",
      "Requirement already satisfied: astroid<=3.4.0-dev0,>=3.3.8 in c:\\users\\jahag\\anaconda3\\lib\\site-packages (from pylint) (3.3.8)\n",
      "Requirement already satisfied: isort!=5.13.0,<6,>=4.2.5 in c:\\users\\jahag\\anaconda3\\lib\\site-packages (from pylint) (5.13.2)\n",
      "Requirement already satisfied: mccabe<0.8,>=0.6 in c:\\users\\jahag\\anaconda3\\lib\\site-packages (from pylint) (0.7.0)\n",
      "Requirement already satisfied: tomlkit>=0.10.1 in c:\\users\\jahag\\anaconda3\\lib\\site-packages (from pylint) (0.13.2)\n",
      "Requirement already satisfied: typing-extensions>=3.10.0 in c:\\users\\jahag\\anaconda3\\lib\\site-packages (from pylint) (4.12.2)\n",
      "Requirement already satisfied: dill>=0.2 in c:\\users\\jahag\\anaconda3\\lib\\site-packages (from pylint) (0.3.8)\n",
      "Requirement already satisfied: colorama>=0.4.5 in c:\\users\\jahag\\anaconda3\\lib\\site-packages (from pylint) (0.4.6)\n",
      "Requirement already satisfied: filelock in c:\\users\\jahag\\anaconda3\\lib\\site-packages (from transformers) (3.13.1)\n",
      "Requirement already satisfied: huggingface-hub<1.0,>=0.24.0 in c:\\users\\jahag\\anaconda3\\lib\\site-packages (from transformers) (0.27.1)\n",
      "Requirement already satisfied: numpy>=1.17 in c:\\users\\jahag\\anaconda3\\lib\\site-packages (from transformers) (1.26.4)\n",
      "Requirement already satisfied: packaging>=20.0 in c:\\users\\jahag\\anaconda3\\lib\\site-packages (from transformers) (24.2)\n",
      "Requirement already satisfied: pyyaml>=5.1 in c:\\users\\jahag\\anaconda3\\lib\\site-packages (from transformers) (6.0.2)\n",
      "Requirement already satisfied: regex!=2019.12.17 in c:\\users\\jahag\\anaconda3\\lib\\site-packages (from transformers) (2024.11.6)\n",
      "Requirement already satisfied: requests in c:\\users\\jahag\\anaconda3\\lib\\site-packages (from transformers) (2.32.3)\n",
      "Requirement already satisfied: tokenizers<0.22,>=0.21 in c:\\users\\jahag\\anaconda3\\lib\\site-packages (from transformers) (0.21.0)\n",
      "Requirement already satisfied: safetensors>=0.4.1 in c:\\users\\jahag\\anaconda3\\lib\\site-packages (from transformers) (0.5.2)\n",
      "Requirement already satisfied: tqdm>=4.27 in c:\\users\\jahag\\anaconda3\\lib\\site-packages (from transformers) (4.67.1)\n",
      "Requirement already satisfied: sympy in c:\\users\\jahag\\anaconda3\\lib\\site-packages (from torch) (1.13.1)\n",
      "Requirement already satisfied: networkx in c:\\users\\jahag\\anaconda3\\lib\\site-packages (from torch) (3.2.1)\n",
      "Requirement already satisfied: jinja2 in c:\\users\\jahag\\anaconda3\\lib\\site-packages (from torch) (3.1.5)\n",
      "Requirement already satisfied: fsspec in c:\\users\\jahag\\anaconda3\\lib\\site-packages (from torch) (2024.12.0)\n",
      "Requirement already satisfied: MarkupSafe>=2.0 in c:\\users\\jahag\\anaconda3\\lib\\site-packages (from jinja2->torch) (3.0.2)\n",
      "Requirement already satisfied: charset-normalizer<4,>=2 in c:\\users\\jahag\\anaconda3\\lib\\site-packages (from requests->transformers) (3.3.2)\n",
      "Requirement already satisfied: idna<4,>=2.5 in c:\\users\\jahag\\anaconda3\\lib\\site-packages (from requests->transformers) (3.7)\n",
      "Requirement already satisfied: urllib3<3,>=1.21.1 in c:\\users\\jahag\\anaconda3\\lib\\site-packages (from requests->transformers) (1.26.19)\n",
      "Requirement already satisfied: certifi>=2017.4.17 in c:\\users\\jahag\\anaconda3\\lib\\site-packages (from requests->transformers) (2025.1.31)\n",
      "Requirement already satisfied: mpmath<1.4,>=1.1.0 in c:\\users\\jahag\\anaconda3\\lib\\site-packages (from sympy->torch) (1.3.0)\n",
      "Downloading astor-0.8.1-py2.py3-none-any.whl (27 kB)\n",
      "Installing collected packages: astor\n",
      "Successfully installed astor-0.8.1\n",
      "Note: you may need to restart the kernel to use updated packages.\n"
     ]
    }
   ],
   "source": [
    "pip install autopep8 pylint pyflakes astor transformers torch\n"
   ]
  },
  {
   "cell_type": "markdown",
   "id": "785a515f-d2e9-4b19-9b30-dfd0dde4c2c6",
   "metadata": {},
   "source": [
    "### Detect Syntax & Logical Errors"
   ]
  },
  {
   "cell_type": "code",
   "execution_count": 2,
   "id": "6e6a4377-4683-4325-9837-f419fe782040",
   "metadata": {},
   "outputs": [
    {
     "name": "stdout",
     "output_type": "stream",
     "text": [
      "❌ Syntax Error at line 1: unexpected EOF while parsing\n"
     ]
    }
   ],
   "source": [
    "import ast\n",
    "\n",
    "def check_syntax(code):\n",
    "    try:\n",
    "        ast.parse(code)\n",
    "        return \"✅ No syntax errors found.\"\n",
    "    except SyntaxError as e:\n",
    "        return f\"❌ Syntax Error at line {e.lineno}: {e.msg}\"\n",
    "\n",
    "code_with_error = \"print('Hello'  # Missing closing parenthesis\"\n",
    "print(check_syntax(code_with_error))\n"
   ]
  },
  {
   "cell_type": "markdown",
   "id": "05064d4f-0abe-4221-bb9c-f7c839186f82",
   "metadata": {},
   "source": [
    "### Using PyFlakes for Deeper Analysis\n",
    "### PyFlakes helps find undefined variables, unused imports, and syntax errors:"
   ]
  },
  {
   "cell_type": "code",
   "execution_count": 3,
   "id": "313ea921-e4cc-44b9-9d07-e0a45f5ca1be",
   "metadata": {},
   "outputs": [
    {
     "name": "stdout",
     "output_type": "stream",
     "text": [
      "<stdin>:3:5: local variable 'x' is assigned to but never used\n",
      "<stdin>:4:11: undefined name 'y'\n",
      "\n"
     ]
    }
   ],
   "source": [
    "from pyflakes.api import check\n",
    "from pyflakes.reporter import Reporter\n",
    "import io\n",
    "\n",
    "def check_code_quality(code):\n",
    "    report = io.StringIO()\n",
    "    check(code, \"<stdin>\", Reporter(report, report))\n",
    "    return report.getvalue() if report.getvalue() else \"✅ No issues found.\"\n",
    "\n",
    "code_with_warnings = \"\"\"\n",
    "def test():\n",
    "    x = 10  # Unused variable\n",
    "    print(y)  # Undefined variable\n",
    "\"\"\"\n",
    "\n",
    "print(check_code_quality(code_with_warnings))\n"
   ]
  },
  {
   "cell_type": "markdown",
   "id": "4626f5cf-fbc1-4b33-b6dd-d6345a0852ed",
   "metadata": {},
   "source": [
    "### Using PyFlakes for Deeper Analysis\n",
    "### PyFlakes helps find undefined variables, unused imports, and syntax errors:"
   ]
  },
  {
   "cell_type": "code",
   "execution_count": 4,
   "id": "f89dccfc-1979-4d76-9025-75c211c95bf4",
   "metadata": {},
   "outputs": [
    {
     "name": "stdout",
     "output_type": "stream",
     "text": [
      "def myfunc():\n",
      "    print('Hello')\n",
      "\n"
     ]
    }
   ],
   "source": [
    "import autopep8\n",
    "\n",
    "def format_code(code):\n",
    "    return autopep8.fix_code(code)\n",
    "\n",
    "code_with_style_errors = \"def myfunc():\\n   print('Hello')\"\n",
    "print(format_code(code_with_style_errors))\n"
   ]
  },
  {
   "cell_type": "markdown",
   "id": "77192a85-b0e6-4197-a2d6-fdc3502e7567",
   "metadata": {},
   "source": [
    "### PyLint for Code Improvement Suggestions\n",
    "### PyLint provides detailed warnings and suggestions:"
   ]
  },
  {
   "cell_type": "code",
   "execution_count": 5,
   "id": "fd44625e-cdb5-4fc9-aaff-79d5b2c2206f",
   "metadata": {},
   "outputs": [
    {
     "name": "stdout",
     "output_type": "stream",
     "text": [
      "************* Module temp\n",
      "temp.py:4:8: E0602: Undefined variable 'y' (undefined-variable)\n",
      "\n",
      "-----------------------------------\n",
      "Your code has been rated at 0.00/10\n",
      "\n",
      "\n"
     ]
    }
   ],
   "source": [
    "import subprocess\n",
    "\n",
    "def lint_code(code):\n",
    "    with open(\"temp.py\", \"w\") as f:\n",
    "        f.write(code)\n",
    "    \n",
    "    result = subprocess.run([\"pylint\", \"temp.py\", \"--disable=all\", \"--enable=E,F\"], capture_output=True, text=True)\n",
    "    return result.stdout\n",
    "\n",
    "code_with_lint_issues = \"\"\"\n",
    "def test():\n",
    "  x = 10 # Unused variable\n",
    "  print(y) # Undefined variable\n",
    "\"\"\"\n",
    "\n",
    "print(lint_code(code_with_lint_issues))\n"
   ]
  },
  {
   "cell_type": "code",
   "execution_count": null,
   "id": "dccaa662-0fab-43e3-bbdb-d10a2289f7ae",
   "metadata": {},
   "outputs": [],
   "source": []
  }
 ],
 "metadata": {
  "kernelspec": {
   "display_name": "Python 3 (ipykernel)",
   "language": "python",
   "name": "python3"
  },
  "language_info": {
   "codemirror_mode": {
    "name": "ipython",
    "version": 3
   },
   "file_extension": ".py",
   "mimetype": "text/x-python",
   "name": "python",
   "nbconvert_exporter": "python",
   "pygments_lexer": "ipython3",
   "version": "3.9.21"
  }
 },
 "nbformat": 4,
 "nbformat_minor": 5
}
